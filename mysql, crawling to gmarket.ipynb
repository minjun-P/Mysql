{
 "cells": [
  {
   "cell_type": "markdown",
   "metadata": {},
   "source": [
    "# 0. 임포트 및 데이터베이스 설정"
   ]
  },
  {
   "cell_type": "code",
   "execution_count": 1,
   "metadata": {},
   "outputs": [],
   "source": [
    "import pymysql\n",
    "db = pymysql.connect(host = 'localhost', port = 3306,\n",
    "                    user = 'root', passwd ='Pmjshpmj78!',\n",
    "                    db = 'bestproducts', charset = 'utf8')\n",
    "cursor = db.cursor()\n",
    "\n",
    "\n"
   ]
  },
  {
   "cell_type": "markdown",
   "metadata": {},
   "source": [
    "# 1.테이블 생성"
   ]
  },
  {
   "cell_type": "code",
   "execution_count": 2,
   "metadata": {},
   "outputs": [
    {
     "data": {
      "text/plain": [
       "0"
      ]
     },
     "execution_count": 2,
     "metadata": {},
     "output_type": "execute_result"
    }
   ],
   "source": [
    "sql = '''\n",
    "CREATE TABLE items (\n",
    "    item_code VARCHAR(20) NOT NULL PRIMARY KEY,\n",
    "    title VARCHAR(200) NOT NULL,\n",
    "    ori_price INT NOT NULL,\n",
    "    dis_price INT NOT NULL,\n",
    "    discount_percent INT NOT NULL,\n",
    "    provider VARCHAR(100)\n",
    ");\n",
    "'''\n",
    "cursor.execute(sql)"
   ]
  },
  {
   "cell_type": "code",
   "execution_count": 3,
   "metadata": {},
   "outputs": [
    {
     "data": {
      "text/plain": [
       "0"
      ]
     },
     "execution_count": 3,
     "metadata": {},
     "output_type": "execute_result"
    }
   ],
   "source": [
    "sql = '''\n",
    "CREATE TABLE ranking (\n",
    "    num INT AUTO_INCREMENT NOT NULL PRIMARY KEY,\n",
    "    main_category VARCHAR(50) NOT NULL,\n",
    "    sub_category VARCHAR(50) NOT NULL,\n",
    "    item_ranking TINYINT UNSIGNED NOT NULL,\n",
    "    item_code VARCHAR(20) NOT NULL,\n",
    "    FOREIGN KEY (item_code) REFERENCES items(item_code)\n",
    ");\n",
    "'''\n",
    "cursor.execute(sql)"
   ]
  },
  {
   "cell_type": "markdown",
   "metadata": {},
   "source": [
    "### 커밋하기"
   ]
  },
  {
   "cell_type": "code",
   "execution_count": 5,
   "metadata": {},
   "outputs": [],
   "source": [
    "db.commit()\n",
    "db.close()"
   ]
  },
  {
   "cell_type": "markdown",
   "metadata": {},
   "source": [
    "# 2. 크롤링해서 데이터 수집하기\n",
    "\n",
    "### main category 정보 가져오기"
   ]
  },
  {
   "cell_type": "code",
   "execution_count": 20,
   "metadata": {},
   "outputs": [
    {
     "name": "stdout",
     "output_type": "stream",
     "text": [
      "ALL\n",
      "패션의류 브랜드 여성의류 /Bestsellers?viewType=G&groupCode=G01&subGroupCode=S161\n",
      "패션의류 브랜드 남성의류 /Bestsellers?viewType=G&groupCode=G01&subGroupCode=S162\n",
      "패션의류 브랜드 진/캐쥬얼  /Bestsellers?viewType=G&groupCode=G01&subGroupCode=S163\n",
      "패션의류 여성의류 /Bestsellers?viewType=G&groupCode=G01&subGroupCode=S102\n",
      "패션의류 남성의류 /Bestsellers?viewType=G&groupCode=G01&subGroupCode=S002\n",
      "패션의류 언더웨어 /Bestsellers?viewType=G&groupCode=G01&subGroupCode=S088\n",
      "패션의류\n",
      "신발/잡화 브랜드 신발/가방 /Bestsellers?viewType=G&groupCode=G02&subGroupCode=S166\n",
      "신발/잡화 브랜드 쥬얼리/시계 /Bestsellers?viewType=G&groupCode=G02&subGroupCode=S167\n",
      "신발/잡화 여성신발 /Bestsellers?viewType=G&groupCode=G02&subGroupCode=S004\n",
      "신발/잡화 남성신발 /Bestsellers?viewType=G&groupCode=G02&subGroupCode=S005\n",
      "신발/잡화 운동화 /Bestsellers?viewType=G&groupCode=G02&subGroupCode=S007\n",
      "신발/잡화 가방/지갑 /Bestsellers?viewType=G&groupCode=G02&subGroupCode=S008\n",
      "신발/잡화 잡화/액세서리 /Bestsellers?viewType=G&groupCode=G02&subGroupCode=S127\n",
      "신발/잡화 수입명품 /Bestsellers?viewType=G&groupCode=G02&subGroupCode=S134\n",
      "신발/잡화 여행가방 /Bestsellers?viewType=G&groupCode=G02&subGroupCode=S172\n",
      "신발/잡화\n",
      "화장품/헤어 화장품 /Bestsellers?viewType=G&groupCode=G03&subGroupCode=S011\n",
      "화장품/헤어 보습제품 /Bestsellers?viewType=G&groupCode=G03&subGroupCode=S081\n",
      "화장품/헤어 남성화장품 /Bestsellers?viewType=G&groupCode=G03&subGroupCode=S055\n",
      "화장품/헤어 향수 /Bestsellers?viewType=G&groupCode=G03&subGroupCode=S012\n",
      "화장품/헤어 화장소품 /Bestsellers?viewType=G&groupCode=G03&subGroupCode=S016\n",
      "화장품/헤어 바디클렌져/바디로션 /Bestsellers?viewType=G&groupCode=G03&subGroupCode=S013\n",
      "화장품/헤어 샴푸/헤어에센스/스타일링 /Bestsellers?viewType=G&groupCode=G03&subGroupCode=S014\n",
      "화장품/헤어 제모/데오드란트/슬리밍 /Bestsellers?viewType=G&groupCode=G03&subGroupCode=S069\n",
      "화장품/헤어\n",
      "유아동/출산 기저귀 /Bestsellers?viewType=G&groupCode=G04&subGroupCode=S017\n",
      "유아동/출산 분유/이유식 /Bestsellers?viewType=G&groupCode=G04&subGroupCode=S063\n",
      "유아동/출산 물티슈 /Bestsellers?viewType=G&groupCode=G04&subGroupCode=S020\n",
      "유아동/출산 신생아의류/잡화 /Bestsellers?viewType=G&groupCode=G04&subGroupCode=S131\n",
      "유아동/출산 유아동의류 /Bestsellers?viewType=G&groupCode=G04&subGroupCode=S064\n",
      "유아동/출산 유아동신발  /Bestsellers?viewType=G&groupCode=G04&subGroupCode=S132\n",
      "유아동/출산 유아동가방/잡화  /Bestsellers?viewType=G&groupCode=G04&subGroupCode=S133\n",
      "유아동/출산 출산/유아용품 /Bestsellers?viewType=G&groupCode=G04&subGroupCode=S018\n",
      "유아동/출산 장난감/완구 /Bestsellers?viewType=G&groupCode=G04&subGroupCode=S076\n",
      "유아동/출산 임부복/용품 /Bestsellers?viewType=G&groupCode=G04&subGroupCode=S062\n",
      "유아동/출산 홈플러스 베이비 /Bestsellers?viewType=G&groupCode=G04&subGroupCode=S158\n",
      "유아동/출산  /bestseller/BestSellerList.asp?group_kind=G&group_cd=G10&groupSub_kind=GS&groupSub_cd=S073\n",
      "유아동/출산\n",
      "식품 과일/견과 /Bestsellers?viewType=G&groupCode=G07&subGroupCode=S103\n",
      "식품 쌀/잡곡 /Bestsellers?viewType=G&groupCode=G07&subGroupCode=S031\n",
      "식품 축산 /Bestsellers?viewType=G&groupCode=G07&subGroupCode=S089\n",
      "식품 수산 /Bestsellers?viewType=G&groupCode=G07&subGroupCode=S090\n",
      "식품 김치/반찬 /Bestsellers?viewType=G&groupCode=G07&subGroupCode=S104\n",
      "식품 생수/커피/음료 /Bestsellers?viewType=G&groupCode=G07&subGroupCode=S105\n",
      "식품 간편조리/간식 /Bestsellers?viewType=G&groupCode=G07&subGroupCode=S106\n",
      "식품 캔/오일/조미료 /Bestsellers?viewType=G&groupCode=G07&subGroupCode=S107\n",
      "식품 건강 /Bestsellers?viewType=G&groupCode=G07&subGroupCode=S033\n",
      "식품 다이어트 /Bestsellers?viewType=G&groupCode=G07&subGroupCode=S092\n",
      "식품 정관장/홍삼 /Bestsellers?viewType=G&groupCode=G07&subGroupCode=S108\n",
      "식품 채소 /Bestsellers?viewType=G&groupCode=G07&subGroupCode=S147\n",
      "식품 홈플러스 식품 /Bestsellers?viewType=G&groupCode=G07&subGroupCode=S160\n",
      "식품  /bestseller/BestSellerList.asp?group_kind=G&group_cd=G04&groupSub_kind=GS&groupSub_cd=S063\n",
      "식품\n",
      "생활/주방/건강 마스크(성인/유아동) /Bestsellers?viewType=G&groupCode=G08&subGroupCode=S184\n",
      "생활/주방/건강 손소독제/소독기기 /Bestsellers?viewType=G&groupCode=G08&subGroupCode=S185\n",
      "생활/주방/건강 샤워기/필터/생활용품 /Bestsellers?viewType=G&groupCode=G08&subGroupCode=S035\n",
      "생활/주방/건강 주방용품 /Bestsellers?viewType=G&groupCode=G08&subGroupCode=S034\n",
      "생활/주방/건강 세제/세면용품 /Bestsellers?viewType=G&groupCode=G08&subGroupCode=S066\n",
      "생활/주방/건강 화장지/일용잡화 /Bestsellers?viewType=G&groupCode=G08&subGroupCode=S067\n",
      "생활/주방/건강 위생용품 /Bestsellers?viewType=G&groupCode=G08&subGroupCode=S037\n",
      "생활/주방/건강 악기/취미/원예용품 /Bestsellers?viewType=G&groupCode=G08&subGroupCode=S038\n",
      "생활/주방/건강 문구/사무용품 /Bestsellers?viewType=G&groupCode=G08&subGroupCode=S040\n",
      "생활/주방/건강 반려동물용품 /Bestsellers?viewType=G&groupCode=G08&subGroupCode=S137\n",
      "생활/주방/건강 공구설비/자재 /Bestsellers?viewType=G&groupCode=G08&subGroupCode=S145\n",
      "생활/주방/건강 건강/의료용품 /Bestsellers?viewType=G&groupCode=G08&subGroupCode=S146\n",
      "생활/주방/건강 홈플러스 리빙 /Bestsellers?viewType=G&groupCode=G08&subGroupCode=S159\n",
      "생활/주방/건강 렌탈 서비스 /Bestsellers?viewType=G&groupCode=G08&subGroupCode=S173\n",
      "생활/주방/건강\n",
      "가구/침구 가구 /Bestsellers?viewType=G&groupCode=G09&subGroupCode=S041\n",
      "가구/침구 침구 /Bestsellers?viewType=G&groupCode=G09&subGroupCode=S042\n",
      "가구/침구 커튼/블라인드 /Bestsellers?viewType=G&groupCode=G09&subGroupCode=S071\n",
      "가구/침구 홈패션/인테리어소품 /Bestsellers?viewType=G&groupCode=G09&subGroupCode=S043\n",
      "가구/침구 브랜드 가구/침구/인테리어 /Bestsellers?viewType=G&groupCode=G09&subGroupCode=S091\n",
      "가구/침구\n",
      "스포츠/자동차 스포츠의류/운동화 /Bestsellers?viewType=G&groupCode=G05&subGroupCode=S174\n",
      "스포츠/자동차 휘트니스/수영 /Bestsellers?viewType=G&groupCode=G05&subGroupCode=S176\n",
      "스포츠/자동차 구기/라켓 /Bestsellers?viewType=G&groupCode=G05&subGroupCode=S177\n",
      "스포츠/자동차 골프 /Bestsellers?viewType=G&groupCode=G05&subGroupCode=S023\n",
      "스포츠/자동차 자전거/보드/기타레저 /Bestsellers?viewType=G&groupCode=G05&subGroupCode=S178\n",
      "스포츠/자동차 캠핑/낚시 /Bestsellers?viewType=G&groupCode=G05&subGroupCode=S179\n",
      "스포츠/자동차 등산/아웃도어 /Bestsellers?viewType=G&groupCode=G05&subGroupCode=S180\n",
      "스포츠/자동차 자동차용품 /Bestsellers?viewType=G&groupCode=G05&subGroupCode=S024\n",
      "스포츠/자동차\n",
      "컴퓨터/전자 노트북/태블릿 /Bestsellers?viewType=G&groupCode=G06&subGroupCode=S141\n",
      "컴퓨터/전자 모니터/프린터 /Bestsellers?viewType=G&groupCode=G06&subGroupCode=S140\n",
      "컴퓨터/전자 컴퓨터/용품 /Bestsellers?viewType=G&groupCode=G06&subGroupCode=S056\n",
      "컴퓨터/전자 영상가전 /Bestsellers?viewType=G&groupCode=G06&subGroupCode=S059\n",
      "컴퓨터/전자 저장장치  /Bestsellers?viewType=G&groupCode=G06&subGroupCode=S138\n",
      "컴퓨터/전자 주방가전 /Bestsellers?viewType=G&groupCode=G06&subGroupCode=S142\n",
      "컴퓨터/전자 계절가전 /Bestsellers?viewType=G&groupCode=G06&subGroupCode=S061\n",
      "컴퓨터/전자 생활/미용가전 /Bestsellers?viewType=G&groupCode=G06&subGroupCode=S060\n",
      "컴퓨터/전자 카메라 /Bestsellers?viewType=G&groupCode=G06&subGroupCode=S057\n",
      "컴퓨터/전자 휴대폰 /Bestsellers?viewType=G&groupCode=G06&subGroupCode=S065\n",
      "컴퓨터/전자 헤드폰/이어폰 /Bestsellers?viewType=G&groupCode=G06&subGroupCode=S143\n",
      "컴퓨터/전자 MP3/스피커 /Bestsellers?viewType=G&groupCode=G06&subGroupCode=S144\n",
      "컴퓨터/전자 게임 /Bestsellers?viewType=G&groupCode=G06&subGroupCode=S058\n",
      "컴퓨터/전자 디지털 액세서리 /Bestsellers?viewType=G&groupCode=G06&subGroupCode=S112\n",
      "컴퓨터/전자 컴퓨터 사업자몰 /Bestsellers?viewType=G&groupCode=G06&subGroupCode=S169\n",
      "컴퓨터/전자 하이마트 http://minishop.gmarket.co.kr/ehimart1\n",
      "컴퓨터/전자\n",
      "도서/음반 시/소설 /Bestsellers?viewType=G&groupCode=G10&subGroupCode=S044\n",
      "도서/음반 경제/경영/개발 /Bestsellers?viewType=G&groupCode=G10&subGroupCode=S093\n",
      "도서/음반 인문/사회/과학/IT /Bestsellers?viewType=G&groupCode=G10&subGroupCode=S094\n",
      "도서/음반 가정/생활/취미/레저 /Bestsellers?viewType=G&groupCode=G10&subGroupCode=S095\n",
      "도서/음반 만화/잡지 /Bestsellers?viewType=G&groupCode=G10&subGroupCode=S096\n",
      "도서/음반 해외원서 /Bestsellers?viewType=G&groupCode=G10&subGroupCode=S097\n",
      "도서/음반 학습/수험 /Bestsellers?viewType=G&groupCode=G10&subGroupCode=S045\n",
      "도서/음반 어린이 /Bestsellers?viewType=G&groupCode=G10&subGroupCode=S073\n",
      "도서/음반 음반 /Bestsellers?viewType=G&groupCode=G10&subGroupCode=S046\n",
      "도서/음반 DVD /Bestsellers?viewType=G&groupCode=G10&subGroupCode=S074\n",
      "도서/음반\n",
      "여행 국내여행 /Bestsellers?viewType=G&groupCode=G11&subGroupCode=S047\n",
      "여행 해외여행 /Bestsellers?viewType=G&groupCode=G11&subGroupCode=S048\n",
      "여행 여행소품 /Bestsellers?viewType=G&groupCode=G11&subGroupCode=S049\n",
      "여행 G9 해외패키지 /Bestsellers?viewType=G&groupCode=G11&subGroupCode=S181\n",
      "여행\n",
      "e쿠폰/티켓 외식 /Bestsellers?viewType=G&groupCode=G12&subGroupCode=S051\n",
      "e쿠폰/티켓 온라인컨텐츠 /Bestsellers?viewType=G&groupCode=G12&subGroupCode=S052\n",
      "e쿠폰/티켓 생활쿠폰 /Bestsellers?viewType=G&groupCode=G12&subGroupCode=S053\n",
      "e쿠폰/티켓 상품권 /Bestsellers?viewType=G&groupCode=G12&subGroupCode=S148\n",
      "e쿠폰/티켓 모바일 상품권 /Bestsellers?viewType=G&groupCode=G12&subGroupCode=S135\n",
      "e쿠폰/티켓\n"
     ]
    }
   ],
   "source": [
    "import requests\n",
    "from bs4 import BeautifulSoup as BS\n",
    "\n",
    "url = 'http://corners.gmarket.co.kr/Bestsellers'\n",
    "res = requests.get(url)\n",
    "soup = BS(res.content, 'lxml')\n",
    "\n",
    "category = soup.select('#categoryTabG li a')\n",
    "for c in category:\n",
    "    get_category('http://corners.gmarket.co.kr'+c['href'],c.get_text())\n",
    "    print(c.get_text())"
   ]
  },
  {
   "cell_type": "code",
   "execution_count": 19,
   "metadata": {},
   "outputs": [],
   "source": [
    "def get_category(category_link, category_name):\n",
    "    res = requests.get(category_link)\n",
    "    soup = BS(res.content, 'lxml')\n",
    "    sub_category = soup.select('div.navi.group li a')\n",
    "    for s in sub_category:\n",
    "        print(category_name, s.get_text(), s['href'])"
   ]
  },
  {
   "cell_type": "code",
   "execution_count": 16,
   "metadata": {},
   "outputs": [
    {
     "name": "stdout",
     "output_type": "stream",
     "text": [
      "ALL\n",
      "패션의류\n",
      "신발/잡화\n",
      "화장품/헤어\n",
      "유아동/출산\n",
      "식품\n",
      "생활/주방/건강\n",
      "가구/침구\n",
      "스포츠/자동차\n",
      "컴퓨터/전자\n",
      "도서/음반\n",
      "여행\n",
      "e쿠폰/티켓\n"
     ]
    }
   ],
   "source": [
    "for c in category:\n",
    "    print(c.get_text())"
   ]
  },
  {
   "cell_type": "code",
   "execution_count": null,
   "metadata": {},
   "outputs": [],
   "source": [
    "#subTabG02 > div"
   ]
  }
 ],
 "metadata": {
  "kernelspec": {
   "display_name": "Python 3",
   "language": "python",
   "name": "python3"
  },
  "language_info": {
   "codemirror_mode": {
    "name": "ipython",
    "version": 3
   },
   "file_extension": ".py",
   "mimetype": "text/x-python",
   "name": "python",
   "nbconvert_exporter": "python",
   "pygments_lexer": "ipython3",
   "version": "3.8.5"
  }
 },
 "nbformat": 4,
 "nbformat_minor": 4
}
